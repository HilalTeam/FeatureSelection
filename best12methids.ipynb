{
 "cells": [
  {
   "cell_type": "markdown",
   "metadata": {},
   "source": [
    "# Feature Selection metodlari"
   ]
  },
  {
   "cell_type": "markdown",
   "metadata": {},
   "source": [
    "<b>Feature Selection</b> nima va u nima maqsadda ishlatiladi degan savolga bugun biz 12 ta metodni 3 ta kategoriyaga bo'lgan holda o'rganib chiqamiz. Biz ba'zi muammolarni yechishda model quramiz va model natijasiga bizning datadagi qaysi bir ustun(feature)i ko'proq tasir qilishini bilishimiz uchun biz datadagi ustunlar sonini kamaytirib faqatgaina natijaga tasir qilayotgan eng muhimlarini tanlab olishimiz kerak."
   ]
  },
  {
   "cell_type": "markdown",
   "metadata": {},
   "source": [
    "Feature Selectionning asosiy vazifalari\n",
    "* Target value bilan orasidagi bog'liqlik maksimum bo'lgan featurelarni saqlab qoladi va qolganlarini o'chirib yuvoradi.\n",
    "* Train va Test classifierdagi hisoblash murakkabligi va hisoblash vaqtini kamaytiradi va natijasi <i>cost-effective</i> model hosil qiladi\n",
    "* [Overfitting](https://machinelearningmastery.com/overfitting-and-underfitting-with-machine-learning-algorithms/)ni oldini olgan holda learning algoritmni modelini yaxshilaydi"
   ]
  },
  {
   "cell_type": "markdown",
   "metadata": {},
   "source": [
    "## Feature Selectionning 3 ta turi"
   ]
  },
  {
   "cell_type": "markdown",
   "metadata": {},
   "source": [
    "Klassifikatsiya(Classifier) masalasiga qanday bog'langanligiga qarab feature selection metodi 3 ta kategoriyaga bo'linadi.\n",
    "* Filter\n",
    "* Wrapper\n",
    "* Embedded"
   ]
  },
  {
   "cell_type": "markdown",
   "metadata": {},
   "source": [
    "## Filter Metodlar"
   ]
  },
  {
   "cell_type": "markdown",
   "metadata": {},
   "source": [
    "Klassifikatsiya qilinmasdan oldin learning algoritm [bias](https://www.bmc.com/blogs/bias-variance-machine-learning/#:~:text=What%20is%20bias%20in%20machine,assumptions%20in%20the%20ML%20process.)i bilan feature selection algoritimni biasi aralashib ketmasligini uchun feature selectionni tanlab oladi.<br> Ular asosan ranker sifatida qaraladi va featurelarini yaxshisidan yomoniga qarab tartiblaydi. \n",
    "<br>\n",
    "Featurelaring ranki dataning <i>muhumlilik xususiyatiga(intrinsic properties)</i> bog'liq, misol uchun dispersiya, [consistency](https://en.wikipedia.org/wiki/Data_consistency), masofa va koorelatsiya.\n",
    "<br>\n",
    "Hozirgi paytda juda ko'p filter metodlari mavjud va yangilari ham regualarniy ishab chiqarilmoqda.\n",
    "<br>\n",
    "\n"
   ]
  },
  {
   "cell_type": "markdown",
   "metadata": {},
   "source": [
    "## Wrapper Metodlar"
   ]
  },
  {
   "cell_type": "markdown",
   "metadata": {},
   "source": [
    "Wrapper metodi mechine learining algoritmlarini <i>qora quti (black box evaluator)</i> orqali eng yaxshi featurelaring qisim toplamini topishda ishlatiladi.\n",
    "<br>\n",
    "Amaliyotda bazi qidirish strategiyalari va algoritmlarni modellashtirishning kombinatsiyalari wrapper sifatida ishalatiladi.\n",
    "<br>\n",
    "Qachonki ko'p featureli katta dadaset bilan ishalganda u juda ko'p hisoblash resursini va vaqtini talab qiladi va wrapper metodlari orqali hisoblashini soddalashtirsak bo'ladi."
   ]
  },
  {
   "cell_type": "markdown",
   "metadata": {},
   "source": [
    "## Embedded Metodlar"
   ]
  },
  {
   "cell_type": "markdown",
   "metadata": {},
   "source": [
    "Embedded metodlar filter va wrapper metodalar orasidagi ko'prik vazifasini bajarib beradi.\n",
    "<br>\n",
    "Statsitik kriteryalar orqali bazi featurelarni tanlab oladi va machine learning algoritmlarini orqali eng yaxshi kalssifikatsiyali natijalarni tanlab oladi.\n",
    "<br>\n",
    "Har bir itaratsiyada featurelar qisimtoplamini qayta sinflamasdan wrapper metodining hisoblanish murkkabligini kamaytiradi va modelni featurega bog'loqlik qilib qo'yadi.\n",
    "<br>\n",
    "Feature selection learning phase(model qurilish vaqti)da amalga oshiriladi yani u model fitting  va feature selectionni bir vaqting o'zida amalga oshiriladi.\n",
    "<br>\n",
    "Bitta minus tarafi tanlab olish klasslarga bog'liq"
   ]
  },
  {
   "cell_type": "markdown",
   "metadata": {},
   "source": [
    "Kerakli kutubxonalarni qo'shamiz va hisoblash ishlarini boshlaymiz"
   ]
  },
  {
   "cell_type": "code",
   "execution_count": 1,
   "metadata": {},
   "outputs": [],
   "source": [
    "import pandas as pd\n",
    "import numpy as np\n",
    "from sklearn import metrics"
   ]
  },
  {
   "cell_type": "code",
   "execution_count": 2,
   "metadata": {},
   "outputs": [
    {
     "data": {
      "text/html": [
       "<div>\n",
       "<style scoped>\n",
       "    .dataframe tbody tr th:only-of-type {\n",
       "        vertical-align: middle;\n",
       "    }\n",
       "\n",
       "    .dataframe tbody tr th {\n",
       "        vertical-align: top;\n",
       "    }\n",
       "\n",
       "    .dataframe thead th {\n",
       "        text-align: right;\n",
       "    }\n",
       "</style>\n",
       "<table border=\"1\" class=\"dataframe\">\n",
       "  <thead>\n",
       "    <tr style=\"text-align: right;\">\n",
       "      <th></th>\n",
       "      <th>ID</th>\n",
       "      <th>BEq(cr)</th>\n",
       "      <th>C1_me</th>\n",
       "      <th>C2_bs</th>\n",
       "      <th>MAC1(Mw)</th>\n",
       "      <th>MAC1(HP)</th>\n",
       "      <th>MAC1(IP)</th>\n",
       "      <th>MAC1(ECI)</th>\n",
       "      <th>MAC1(Vm)</th>\n",
       "      <th>MAC1(Anp)</th>\n",
       "      <th>...</th>\n",
       "      <th>MAC7(Z1)</th>\n",
       "      <th>MAC7(Z2)</th>\n",
       "      <th>MAC7(Z3)</th>\n",
       "      <th>MAC7(ISA)</th>\n",
       "      <th>MAC7(At)</th>\n",
       "      <th>MAC7(Ap)</th>\n",
       "      <th>MAC7(Pa)</th>\n",
       "      <th>MAC7(Pb)</th>\n",
       "      <th>MAC7(Pt)</th>\n",
       "      <th>Set</th>\n",
       "    </tr>\n",
       "  </thead>\n",
       "  <tbody>\n",
       "    <tr>\n",
       "      <th>0</th>\n",
       "      <td>1</td>\n",
       "      <td>-1</td>\n",
       "      <td>MIC (uM)</td>\n",
       "      <td>Escherichia coli</td>\n",
       "      <td>18766.50</td>\n",
       "      <td>3.16</td>\n",
       "      <td>77.31</td>\n",
       "      <td>0.28</td>\n",
       "      <td>29700.05</td>\n",
       "      <td>19965.60</td>\n",
       "      <td>...</td>\n",
       "      <td>-2.21</td>\n",
       "      <td>2.66</td>\n",
       "      <td>-0.65</td>\n",
       "      <td>9625.47</td>\n",
       "      <td>25264.62</td>\n",
       "      <td>1374.12</td>\n",
       "      <td>1.48</td>\n",
       "      <td>1.39</td>\n",
       "      <td>0.97</td>\n",
       "      <td>Train</td>\n",
       "    </tr>\n",
       "    <tr>\n",
       "      <th>1</th>\n",
       "      <td>2</td>\n",
       "      <td>1</td>\n",
       "      <td>MIC (uM)</td>\n",
       "      <td>Escherichia coli</td>\n",
       "      <td>22420.21</td>\n",
       "      <td>-4.44</td>\n",
       "      <td>99.13</td>\n",
       "      <td>0.42</td>\n",
       "      <td>32496.79</td>\n",
       "      <td>16664.04</td>\n",
       "      <td>...</td>\n",
       "      <td>3.12</td>\n",
       "      <td>-1.06</td>\n",
       "      <td>1.74</td>\n",
       "      <td>8169.21</td>\n",
       "      <td>39940.07</td>\n",
       "      <td>6203.67</td>\n",
       "      <td>1.57</td>\n",
       "      <td>1.60</td>\n",
       "      <td>1.62</td>\n",
       "      <td>Train</td>\n",
       "    </tr>\n",
       "    <tr>\n",
       "      <th>2</th>\n",
       "      <td>3</td>\n",
       "      <td>-1</td>\n",
       "      <td>HC50 (uM)</td>\n",
       "      <td>Human erythrocytes</td>\n",
       "      <td>27623.55</td>\n",
       "      <td>5.11</td>\n",
       "      <td>91.88</td>\n",
       "      <td>0.49</td>\n",
       "      <td>44321.25</td>\n",
       "      <td>28677.85</td>\n",
       "      <td>...</td>\n",
       "      <td>7.54</td>\n",
       "      <td>-2.37</td>\n",
       "      <td>1.26</td>\n",
       "      <td>13886.31</td>\n",
       "      <td>29654.90</td>\n",
       "      <td>2433.19</td>\n",
       "      <td>1.40</td>\n",
       "      <td>1.24</td>\n",
       "      <td>0.73</td>\n",
       "      <td>Train</td>\n",
       "    </tr>\n",
       "    <tr>\n",
       "      <th>3</th>\n",
       "      <td>4</td>\n",
       "      <td>1</td>\n",
       "      <td>MIC (uM)</td>\n",
       "      <td>Salmonella enterica subsp. enterica serovar Ty...</td>\n",
       "      <td>29326.84</td>\n",
       "      <td>-4.77</td>\n",
       "      <td>98.67</td>\n",
       "      <td>0.31</td>\n",
       "      <td>48094.77</td>\n",
       "      <td>30257.87</td>\n",
       "      <td>...</td>\n",
       "      <td>9.14</td>\n",
       "      <td>1.58</td>\n",
       "      <td>2.09</td>\n",
       "      <td>17344.28</td>\n",
       "      <td>43139.05</td>\n",
       "      <td>4670.11</td>\n",
       "      <td>1.65</td>\n",
       "      <td>1.30</td>\n",
       "      <td>0.85</td>\n",
       "      <td>Train</td>\n",
       "    </tr>\n",
       "    <tr>\n",
       "      <th>4</th>\n",
       "      <td>5</td>\n",
       "      <td>1</td>\n",
       "      <td>MIC (uM)</td>\n",
       "      <td>Escherichia coli</td>\n",
       "      <td>29443.58</td>\n",
       "      <td>-0.25</td>\n",
       "      <td>94.84</td>\n",
       "      <td>0.66</td>\n",
       "      <td>46870.09</td>\n",
       "      <td>28039.24</td>\n",
       "      <td>...</td>\n",
       "      <td>5.41</td>\n",
       "      <td>1.73</td>\n",
       "      <td>1.84</td>\n",
       "      <td>14534.03</td>\n",
       "      <td>42398.55</td>\n",
       "      <td>5022.12</td>\n",
       "      <td>1.64</td>\n",
       "      <td>1.22</td>\n",
       "      <td>0.92</td>\n",
       "      <td>Train</td>\n",
       "    </tr>\n",
       "  </tbody>\n",
       "</table>\n",
       "<p>5 rows × 110 columns</p>\n",
       "</div>"
      ],
      "text/plain": [
       "   ID  BEq(cr)      C1_me                                              C2_bs  \\\n",
       "0   1       -1   MIC (uM)                                   Escherichia coli   \n",
       "1   2        1   MIC (uM)                                   Escherichia coli   \n",
       "2   3       -1  HC50 (uM)                                 Human erythrocytes   \n",
       "3   4        1   MIC (uM)  Salmonella enterica subsp. enterica serovar Ty...   \n",
       "4   5        1   MIC (uM)                                   Escherichia coli   \n",
       "\n",
       "   MAC1(Mw)  MAC1(HP)  MAC1(IP)  MAC1(ECI)  MAC1(Vm)  MAC1(Anp)  ...  \\\n",
       "0  18766.50      3.16     77.31       0.28  29700.05   19965.60  ...   \n",
       "1  22420.21     -4.44     99.13       0.42  32496.79   16664.04  ...   \n",
       "2  27623.55      5.11     91.88       0.49  44321.25   28677.85  ...   \n",
       "3  29326.84     -4.77     98.67       0.31  48094.77   30257.87  ...   \n",
       "4  29443.58     -0.25     94.84       0.66  46870.09   28039.24  ...   \n",
       "\n",
       "   MAC7(Z1)  MAC7(Z2)  MAC7(Z3)  MAC7(ISA)  MAC7(At)  MAC7(Ap)  MAC7(Pa)  \\\n",
       "0     -2.21      2.66     -0.65    9625.47  25264.62   1374.12      1.48   \n",
       "1      3.12     -1.06      1.74    8169.21  39940.07   6203.67      1.57   \n",
       "2      7.54     -2.37      1.26   13886.31  29654.90   2433.19      1.40   \n",
       "3      9.14      1.58      2.09   17344.28  43139.05   4670.11      1.65   \n",
       "4      5.41      1.73      1.84   14534.03  42398.55   5022.12      1.64   \n",
       "\n",
       "   MAC7(Pb)  MAC7(Pt)    Set  \n",
       "0      1.39      0.97  Train  \n",
       "1      1.60      1.62  Train  \n",
       "2      1.24      0.73  Train  \n",
       "3      1.30      0.85  Train  \n",
       "4      1.22      0.92  Train  \n",
       "\n",
       "[5 rows x 110 columns]"
      ]
     },
     "execution_count": 2,
     "metadata": {},
     "output_type": "execute_result"
    }
   ],
   "source": [
    "# Read in data into a dataframe \n",
    "data = pd.read_excel('Data1_Feature_selection.xlsx')\n",
    "# Display top of dataframe\n",
    "data.head()"
   ]
  },
  {
   "cell_type": "markdown",
   "metadata": {},
   "source": [
    "Bazi ustunalar bizga kerak emas va ularni o'chirib tashlaymiz"
   ]
  },
  {
   "cell_type": "code",
   "execution_count": 3,
   "metadata": {},
   "outputs": [
    {
     "data": {
      "text/html": [
       "<div>\n",
       "<style scoped>\n",
       "    .dataframe tbody tr th:only-of-type {\n",
       "        vertical-align: middle;\n",
       "    }\n",
       "\n",
       "    .dataframe tbody tr th {\n",
       "        vertical-align: top;\n",
       "    }\n",
       "\n",
       "    .dataframe thead th {\n",
       "        text-align: right;\n",
       "    }\n",
       "</style>\n",
       "<table border=\"1\" class=\"dataframe\">\n",
       "  <thead>\n",
       "    <tr style=\"text-align: right;\">\n",
       "      <th></th>\n",
       "      <th>MAC1(Mw)</th>\n",
       "      <th>MAC1(HP)</th>\n",
       "      <th>MAC1(IP)</th>\n",
       "      <th>MAC1(ECI)</th>\n",
       "      <th>MAC1(Vm)</th>\n",
       "      <th>MAC1(Anp)</th>\n",
       "      <th>MAC1(Z1)</th>\n",
       "      <th>MAC1(Z2)</th>\n",
       "      <th>MAC1(Z3)</th>\n",
       "      <th>MAC1(ISA)</th>\n",
       "      <th>...</th>\n",
       "      <th>MAC7(Anp)</th>\n",
       "      <th>MAC7(Z1)</th>\n",
       "      <th>MAC7(Z2)</th>\n",
       "      <th>MAC7(Z3)</th>\n",
       "      <th>MAC7(ISA)</th>\n",
       "      <th>MAC7(At)</th>\n",
       "      <th>MAC7(Ap)</th>\n",
       "      <th>MAC7(Pa)</th>\n",
       "      <th>MAC7(Pb)</th>\n",
       "      <th>MAC7(Pt)</th>\n",
       "    </tr>\n",
       "  </thead>\n",
       "  <tbody>\n",
       "    <tr>\n",
       "      <th>0</th>\n",
       "      <td>18766.50</td>\n",
       "      <td>3.16</td>\n",
       "      <td>77.31</td>\n",
       "      <td>0.28</td>\n",
       "      <td>29700.05</td>\n",
       "      <td>19965.60</td>\n",
       "      <td>3.76</td>\n",
       "      <td>3.30</td>\n",
       "      <td>0.76</td>\n",
       "      <td>15053.39</td>\n",
       "      <td>...</td>\n",
       "      <td>13511.82</td>\n",
       "      <td>-2.21</td>\n",
       "      <td>2.66</td>\n",
       "      <td>-0.65</td>\n",
       "      <td>9625.47</td>\n",
       "      <td>25264.62</td>\n",
       "      <td>1374.12</td>\n",
       "      <td>1.48</td>\n",
       "      <td>1.39</td>\n",
       "      <td>0.97</td>\n",
       "    </tr>\n",
       "    <tr>\n",
       "      <th>1</th>\n",
       "      <td>22420.21</td>\n",
       "      <td>-4.44</td>\n",
       "      <td>99.13</td>\n",
       "      <td>0.42</td>\n",
       "      <td>32496.79</td>\n",
       "      <td>16664.04</td>\n",
       "      <td>1.44</td>\n",
       "      <td>-2.59</td>\n",
       "      <td>1.15</td>\n",
       "      <td>9813.25</td>\n",
       "      <td>...</td>\n",
       "      <td>14177.47</td>\n",
       "      <td>3.12</td>\n",
       "      <td>-1.06</td>\n",
       "      <td>1.74</td>\n",
       "      <td>8169.21</td>\n",
       "      <td>39940.07</td>\n",
       "      <td>6203.67</td>\n",
       "      <td>1.57</td>\n",
       "      <td>1.60</td>\n",
       "      <td>1.62</td>\n",
       "    </tr>\n",
       "    <tr>\n",
       "      <th>2</th>\n",
       "      <td>27623.55</td>\n",
       "      <td>5.11</td>\n",
       "      <td>91.88</td>\n",
       "      <td>0.49</td>\n",
       "      <td>44321.25</td>\n",
       "      <td>28677.85</td>\n",
       "      <td>1.74</td>\n",
       "      <td>1.82</td>\n",
       "      <td>2.43</td>\n",
       "      <td>22188.24</td>\n",
       "      <td>...</td>\n",
       "      <td>16639.72</td>\n",
       "      <td>7.54</td>\n",
       "      <td>-2.37</td>\n",
       "      <td>1.26</td>\n",
       "      <td>13886.31</td>\n",
       "      <td>29654.90</td>\n",
       "      <td>2433.19</td>\n",
       "      <td>1.40</td>\n",
       "      <td>1.24</td>\n",
       "      <td>0.73</td>\n",
       "    </tr>\n",
       "    <tr>\n",
       "      <th>3</th>\n",
       "      <td>29326.84</td>\n",
       "      <td>-4.77</td>\n",
       "      <td>98.67</td>\n",
       "      <td>0.31</td>\n",
       "      <td>48094.77</td>\n",
       "      <td>30257.87</td>\n",
       "      <td>-4.08</td>\n",
       "      <td>-1.10</td>\n",
       "      <td>3.55</td>\n",
       "      <td>22535.35</td>\n",
       "      <td>...</td>\n",
       "      <td>21541.75</td>\n",
       "      <td>9.14</td>\n",
       "      <td>1.58</td>\n",
       "      <td>2.09</td>\n",
       "      <td>17344.28</td>\n",
       "      <td>43139.05</td>\n",
       "      <td>4670.11</td>\n",
       "      <td>1.65</td>\n",
       "      <td>1.30</td>\n",
       "      <td>0.85</td>\n",
       "    </tr>\n",
       "    <tr>\n",
       "      <th>4</th>\n",
       "      <td>29443.58</td>\n",
       "      <td>-0.25</td>\n",
       "      <td>94.84</td>\n",
       "      <td>0.66</td>\n",
       "      <td>46870.09</td>\n",
       "      <td>28039.24</td>\n",
       "      <td>1.36</td>\n",
       "      <td>-1.21</td>\n",
       "      <td>3.08</td>\n",
       "      <td>20183.11</td>\n",
       "      <td>...</td>\n",
       "      <td>19492.40</td>\n",
       "      <td>5.41</td>\n",
       "      <td>1.73</td>\n",
       "      <td>1.84</td>\n",
       "      <td>14534.03</td>\n",
       "      <td>42398.55</td>\n",
       "      <td>5022.12</td>\n",
       "      <td>1.64</td>\n",
       "      <td>1.22</td>\n",
       "      <td>0.92</td>\n",
       "    </tr>\n",
       "    <tr>\n",
       "      <th>...</th>\n",
       "      <td>...</td>\n",
       "      <td>...</td>\n",
       "      <td>...</td>\n",
       "      <td>...</td>\n",
       "      <td>...</td>\n",
       "      <td>...</td>\n",
       "      <td>...</td>\n",
       "      <td>...</td>\n",
       "      <td>...</td>\n",
       "      <td>...</td>\n",
       "      <td>...</td>\n",
       "      <td>...</td>\n",
       "      <td>...</td>\n",
       "      <td>...</td>\n",
       "      <td>...</td>\n",
       "      <td>...</td>\n",
       "      <td>...</td>\n",
       "      <td>...</td>\n",
       "      <td>...</td>\n",
       "      <td>...</td>\n",
       "      <td>...</td>\n",
       "    </tr>\n",
       "    <tr>\n",
       "      <th>95</th>\n",
       "      <td>21393.83</td>\n",
       "      <td>-4.59</td>\n",
       "      <td>82.69</td>\n",
       "      <td>0.24</td>\n",
       "      <td>33665.40</td>\n",
       "      <td>20664.90</td>\n",
       "      <td>-4.11</td>\n",
       "      <td>1.93</td>\n",
       "      <td>0.29</td>\n",
       "      <td>12921.03</td>\n",
       "      <td>...</td>\n",
       "      <td>17926.88</td>\n",
       "      <td>0.02</td>\n",
       "      <td>4.13</td>\n",
       "      <td>0.45</td>\n",
       "      <td>11660.37</td>\n",
       "      <td>38477.93</td>\n",
       "      <td>3967.51</td>\n",
       "      <td>1.68</td>\n",
       "      <td>1.76</td>\n",
       "      <td>1.57</td>\n",
       "    </tr>\n",
       "    <tr>\n",
       "      <th>96</th>\n",
       "      <td>22452.96</td>\n",
       "      <td>-4.45</td>\n",
       "      <td>85.24</td>\n",
       "      <td>0.27</td>\n",
       "      <td>34963.22</td>\n",
       "      <td>21181.17</td>\n",
       "      <td>-3.06</td>\n",
       "      <td>1.12</td>\n",
       "      <td>0.95</td>\n",
       "      <td>13371.76</td>\n",
       "      <td>...</td>\n",
       "      <td>19061.72</td>\n",
       "      <td>1.23</td>\n",
       "      <td>2.40</td>\n",
       "      <td>1.15</td>\n",
       "      <td>12599.22</td>\n",
       "      <td>40367.01</td>\n",
       "      <td>4275.58</td>\n",
       "      <td>1.71</td>\n",
       "      <td>1.84</td>\n",
       "      <td>1.54</td>\n",
       "    </tr>\n",
       "    <tr>\n",
       "      <th>97</th>\n",
       "      <td>19829.20</td>\n",
       "      <td>0.65</td>\n",
       "      <td>90.09</td>\n",
       "      <td>0.15</td>\n",
       "      <td>30763.30</td>\n",
       "      <td>20289.06</td>\n",
       "      <td>-2.81</td>\n",
       "      <td>6.40</td>\n",
       "      <td>0.12</td>\n",
       "      <td>12336.33</td>\n",
       "      <td>...</td>\n",
       "      <td>16519.71</td>\n",
       "      <td>4.67</td>\n",
       "      <td>4.70</td>\n",
       "      <td>0.03</td>\n",
       "      <td>11615.95</td>\n",
       "      <td>31043.48</td>\n",
       "      <td>2607.85</td>\n",
       "      <td>1.65</td>\n",
       "      <td>1.64</td>\n",
       "      <td>1.70</td>\n",
       "    </tr>\n",
       "    <tr>\n",
       "      <th>98</th>\n",
       "      <td>25790.01</td>\n",
       "      <td>-1.94</td>\n",
       "      <td>94.54</td>\n",
       "      <td>0.22</td>\n",
       "      <td>41330.55</td>\n",
       "      <td>28753.67</td>\n",
       "      <td>-0.13</td>\n",
       "      <td>-0.45</td>\n",
       "      <td>0.64</td>\n",
       "      <td>20896.43</td>\n",
       "      <td>...</td>\n",
       "      <td>19421.73</td>\n",
       "      <td>-2.08</td>\n",
       "      <td>1.30</td>\n",
       "      <td>0.78</td>\n",
       "      <td>12649.15</td>\n",
       "      <td>39358.34</td>\n",
       "      <td>3029.84</td>\n",
       "      <td>1.68</td>\n",
       "      <td>1.63</td>\n",
       "      <td>1.33</td>\n",
       "    </tr>\n",
       "    <tr>\n",
       "      <th>99</th>\n",
       "      <td>20815.13</td>\n",
       "      <td>-2.17</td>\n",
       "      <td>82.65</td>\n",
       "      <td>0.11</td>\n",
       "      <td>32843.57</td>\n",
       "      <td>23601.45</td>\n",
       "      <td>-1.08</td>\n",
       "      <td>-0.19</td>\n",
       "      <td>-0.64</td>\n",
       "      <td>16174.81</td>\n",
       "      <td>...</td>\n",
       "      <td>15807.11</td>\n",
       "      <td>0.16</td>\n",
       "      <td>5.51</td>\n",
       "      <td>0.49</td>\n",
       "      <td>10332.70</td>\n",
       "      <td>31060.28</td>\n",
       "      <td>2436.67</td>\n",
       "      <td>1.45</td>\n",
       "      <td>1.42</td>\n",
       "      <td>1.33</td>\n",
       "    </tr>\n",
       "  </tbody>\n",
       "</table>\n",
       "<p>100 rows × 105 columns</p>\n",
       "</div>"
      ],
      "text/plain": [
       "    MAC1(Mw)  MAC1(HP)  MAC1(IP)  MAC1(ECI)  MAC1(Vm)  MAC1(Anp)  MAC1(Z1)  \\\n",
       "0   18766.50      3.16     77.31       0.28  29700.05   19965.60      3.76   \n",
       "1   22420.21     -4.44     99.13       0.42  32496.79   16664.04      1.44   \n",
       "2   27623.55      5.11     91.88       0.49  44321.25   28677.85      1.74   \n",
       "3   29326.84     -4.77     98.67       0.31  48094.77   30257.87     -4.08   \n",
       "4   29443.58     -0.25     94.84       0.66  46870.09   28039.24      1.36   \n",
       "..       ...       ...       ...        ...       ...        ...       ...   \n",
       "95  21393.83     -4.59     82.69       0.24  33665.40   20664.90     -4.11   \n",
       "96  22452.96     -4.45     85.24       0.27  34963.22   21181.17     -3.06   \n",
       "97  19829.20      0.65     90.09       0.15  30763.30   20289.06     -2.81   \n",
       "98  25790.01     -1.94     94.54       0.22  41330.55   28753.67     -0.13   \n",
       "99  20815.13     -2.17     82.65       0.11  32843.57   23601.45     -1.08   \n",
       "\n",
       "    MAC1(Z2)  MAC1(Z3)  MAC1(ISA)  ...  MAC7(Anp)  MAC7(Z1)  MAC7(Z2)  \\\n",
       "0       3.30      0.76   15053.39  ...   13511.82     -2.21      2.66   \n",
       "1      -2.59      1.15    9813.25  ...   14177.47      3.12     -1.06   \n",
       "2       1.82      2.43   22188.24  ...   16639.72      7.54     -2.37   \n",
       "3      -1.10      3.55   22535.35  ...   21541.75      9.14      1.58   \n",
       "4      -1.21      3.08   20183.11  ...   19492.40      5.41      1.73   \n",
       "..       ...       ...        ...  ...        ...       ...       ...   \n",
       "95      1.93      0.29   12921.03  ...   17926.88      0.02      4.13   \n",
       "96      1.12      0.95   13371.76  ...   19061.72      1.23      2.40   \n",
       "97      6.40      0.12   12336.33  ...   16519.71      4.67      4.70   \n",
       "98     -0.45      0.64   20896.43  ...   19421.73     -2.08      1.30   \n",
       "99     -0.19     -0.64   16174.81  ...   15807.11      0.16      5.51   \n",
       "\n",
       "    MAC7(Z3)  MAC7(ISA)  MAC7(At)  MAC7(Ap)  MAC7(Pa)  MAC7(Pb)  MAC7(Pt)  \n",
       "0      -0.65    9625.47  25264.62   1374.12      1.48      1.39      0.97  \n",
       "1       1.74    8169.21  39940.07   6203.67      1.57      1.60      1.62  \n",
       "2       1.26   13886.31  29654.90   2433.19      1.40      1.24      0.73  \n",
       "3       2.09   17344.28  43139.05   4670.11      1.65      1.30      0.85  \n",
       "4       1.84   14534.03  42398.55   5022.12      1.64      1.22      0.92  \n",
       "..       ...        ...       ...       ...       ...       ...       ...  \n",
       "95      0.45   11660.37  38477.93   3967.51      1.68      1.76      1.57  \n",
       "96      1.15   12599.22  40367.01   4275.58      1.71      1.84      1.54  \n",
       "97      0.03   11615.95  31043.48   2607.85      1.65      1.64      1.70  \n",
       "98      0.78   12649.15  39358.34   3029.84      1.68      1.63      1.33  \n",
       "99      0.49   10332.70  31060.28   2436.67      1.45      1.42      1.33  \n",
       "\n",
       "[100 rows x 105 columns]"
      ]
     },
     "execution_count": 3,
     "metadata": {},
     "output_type": "execute_result"
    }
   ],
   "source": [
    "X = data.drop(columns =['ID','BEq(cr)','C1_me','C2_bs','Set'])\n",
    "X"
   ]
  },
  {
   "cell_type": "code",
   "execution_count": 4,
   "metadata": {},
   "outputs": [
    {
     "data": {
      "text/plain": [
       "0    -1\n",
       "1     1\n",
       "2    -1\n",
       "3     1\n",
       "4     1\n",
       "     ..\n",
       "95    1\n",
       "96    1\n",
       "97   -1\n",
       "98    1\n",
       "99   -1\n",
       "Name: BEq(cr), Length: 100, dtype: int64"
      ]
     },
     "execution_count": 4,
     "metadata": {},
     "output_type": "execute_result"
    }
   ],
   "source": [
    "y = data['BEq(cr)']\n",
    "y"
   ]
  },
  {
   "cell_type": "markdown",
   "metadata": {},
   "source": [
    "Datasetni ikkiga bo'lib oldik Features va Target qismlarga."
   ]
  },
  {
   "cell_type": "markdown",
   "metadata": {},
   "source": [
    "Bu funksiya bizga eng yaxshi ya'ni targetga eng ko'p tasir ko'rsatayotgan featurelarni ko'rsatadi."
   ]
  },
  {
   "cell_type": "code",
   "execution_count": 5,
   "metadata": {},
   "outputs": [],
   "source": [
    "def getFeature(mask):\n",
    "    new_features = [] # The list of your K best features\n",
    "\n",
    "    for bool, feature in zip(mask, X.columns):\n",
    "        if bool:\n",
    "            new_features.append(feature)\n",
    "            \n",
    "    return new_features"
   ]
  },
  {
   "cell_type": "code",
   "execution_count": 6,
   "metadata": {},
   "outputs": [],
   "source": [
    "def myModel(myX,myY,X_test):\n",
    "    # instantiate the model (using the default parameters)\n",
    "    logreg = LogisticRegression()\n",
    "\n",
    "    # fit the model with data\n",
    "    logreg.fit(myX,myY)\n",
    "\n",
    "    # get predict\n",
    "    y_pred=logreg.predict(X_test)\n",
    "    \n",
    "    return y_pred\n",
    "   "
   ]
  },
  {
   "cell_type": "markdown",
   "metadata": {},
   "source": [
    "## Filter methods"
   ]
  },
  {
   "cell_type": "markdown",
   "metadata": {},
   "source": [
    "### 1. Chi-square"
   ]
  },
  {
   "cell_type": "markdown",
   "metadata": {},
   "source": [
    "Hosil bo'lgan feature klass qiyamtiga tegishli bo'lmasiligni taxmin qiladigan [divergensiya](https://en.wikipedia.org/wiki/Divergence_(statistics)#:~:text=In%20statistics%20and%20information%20geometry,another%20on%20a%20statistical%20manifold.) qiymatini hisoblaydigan χ² statistik testga asoslangan bir o'lchovli filter.\n",
    "<br>\n",
    "Boshqa bir o'chovli metodlarga o'xshab biz har bir feature bilan target orasidagi  χ²ni hisoblaymiz va ular orasidagi bog'liqlikni kuzatamiz.\n",
    "<br>\n",
    "Agar target qiymati ozod had bo'lsa yani featurelarga bog'liq bo'lmasa natija past qiymat chiqaradi va aksincha bog'liq bo'lsa featurelarning muhimligi oshadi.\n",
    "<br>\n",
    "χ² ning yuqori qiymati o'sha featureni targetga juda yaqinligini anglatadi."
   ]
  },
  {
   "cell_type": "code",
   "execution_count": 7,
   "metadata": {},
   "outputs": [
    {
     "data": {
      "text/plain": [
       "['MAC3(Ap)', 'MAC4(ECI)', 'MAC4(Ap)', 'MAC5(Ap)', 'MAC6(Ap)', 'MAC7(Ap)']"
      ]
     },
     "execution_count": 7,
     "metadata": {},
     "output_type": "execute_result"
    }
   ],
   "source": [
    "from sklearn.feature_selection import chi2\n",
    "from sklearn.preprocessing import MinMaxScaler\n",
    "from sklearn.feature_selection import SelectKBest\n",
    "X_norm = MinMaxScaler().fit_transform(X)\n",
    "chi_selector = SelectKBest(chi2, k=6)\n",
    "chi_selector.fit(X_norm, y)\n",
    "chi_features = getFeature(chi_selector.get_support())\n",
    "chi_features"
   ]
  },
  {
   "cell_type": "markdown",
   "metadata": {},
   "source": [
    "Biz target qiymatga juda ko'p tasir ko'rsatyotgan eng yaxshi 6 ta featureni tanlab oldik.\n",
    "<br>\n",
    "χ² yordamida featurelarni tanlab olish haqida ko'proq [ma'lumot.](https://towardsdatascience.com/chi-square-test-for-feature-selection-in-machine-learning-206b1f0b8223#:~:text=In%20feature%20selection%2C%20we%20aim,hypothesis%20of%20independence%20is%20incorrect.)"
   ]
  },
  {
   "cell_type": "code",
   "execution_count": 9,
   "metadata": {},
   "outputs": [],
   "source": [
    "from sklearn.model_selection import train_test_split\n",
    "# import the class\n",
    "from sklearn.linear_model import LogisticRegression"
   ]
  },
  {
   "cell_type": "code",
   "execution_count": 10,
   "metadata": {},
   "outputs": [
    {
     "name": "stdout",
     "output_type": "stream",
     "text": [
      "Accuracy: 0.88\n",
      "Precision: 0.8\n",
      "Recall: 0.8888888888888888\n"
     ]
    }
   ],
   "source": [
    "X_train,X_test,y_train,y_test=train_test_split(X_chi,y,test_size=0.25,random_state=0)\n",
    "y_pred = myModel(X_train,y_train,X_test)\n",
    "chi_acc = metrics.accuracy_score(y_test, y_pred)\n",
    "print(\"Accuracy:\",metrics.accuracy_score(y_test, y_pred))\n",
    "print(\"Precision:\",metrics.precision_score(y_test, y_pred))\n",
    "print(\"Recall:\",metrics.recall_score(y_test, y_pred))"
   ]
  },
  {
   "cell_type": "markdown",
   "metadata": {},
   "source": [
    "### 2. Mutual Information"
   ]
  },
  {
   "cell_type": "markdown",
   "metadata": {},
   "source": [
    "Bu metod ham filter metodlaridan biri va uni [Information Gain](https://machinelearningmastery.com/information-gain-and-mutual-information/#:~:text=Information%20gain%20can%20also%20be,between%20the%20two%20random%20variables.) deb ham atashadi.\n",
    "<br>\n",
    "Bu metodning hisoblash tezligi juda yaxshi va formulasi oddiy shuning uchun u ko'p qo'llaniladigan bir o'lchovli feature selection metodlaridan biri hisoblanadi.\n",
    "<br>\n",
    "Bir vaqtining o'zida har bir featurening [entopiyasi](https://www.analyticsvidhya.com/blog/2020/11/entropy-a-key-concept-for-all-data-science-beginners/) pasayishini hisoblaydi.\n",
    "<br>\n",
    "Agar featurening hisoblangan <i>information gain</i>ning qiymati katta bo'lsa targetga shuncha bog'liq bo'ladi.\n",
    "<br>\n",
    "Bu metod muhim bo'lmagan featurelarni ishlatmaydi chunki featurelar bir o'lchovli yo'l bilan aniqlanadi.\n",
    "<br>\n",
    "Featurelarning kanteksini hisobga olmasadan ularni erkli(independently) deb baholash metodiga asoslangan va u <b>myopic</b> deb nomlanadi."
   ]
  },
  {
   "cell_type": "code",
   "execution_count": 11,
   "metadata": {},
   "outputs": [
    {
     "data": {
      "text/plain": [
       "['MAC4(Ap)', 'MAC5(Mw)', 'MAC5(At)', 'MAC5(Ap)', 'MAC6(Mw)', 'MAC6(Ap)']"
      ]
     },
     "execution_count": 11,
     "metadata": {},
     "output_type": "execute_result"
    }
   ],
   "source": [
    "from sklearn.feature_selection import mutual_info_classif\n",
    "mi_selector = SelectKBest(mutual_info_classif, k=6)\n",
    "mi_selector.fit(X, y)\n",
    "mi_feature = getFeature(mi_selector.get_support())\n",
    "mi_feature"
   ]
  },
  {
   "cell_type": "markdown",
   "metadata": {},
   "source": [
    "Va natijada biz eng yaxshi 6 ta featureni <b> Mutual Information</b> metodi orqali topdik. Bu metod haqida [batafsil ma'lumot.](https://machinelearningmastery.com/information-gain-and-mutual-information/#:~:text=Information%20gain%20can%20also%20be,between%20the%20two%20random%20variables.) "
   ]
  },
  {
   "cell_type": "code",
   "execution_count": 12,
   "metadata": {},
   "outputs": [
    {
     "name": "stdout",
     "output_type": "stream",
     "text": [
      "Accuracy: 0.76\n",
      "Precision: 0.6666666666666666\n",
      "Recall: 0.6666666666666666\n"
     ]
    }
   ],
   "source": [
    "X_mi = X[mi_feature]\n",
    "X_train,X_test,y_train,y_test=train_test_split(X_mi,y,test_size=0.25,random_state=0)\n",
    "y_pred = myModel(X_train,y_train,X_test)\n",
    "mi_acc = metrics.accuracy_score(y_test, y_pred)\n",
    "print(\"Accuracy:\",metrics.accuracy_score(y_test, y_pred))\n",
    "print(\"Precision:\",metrics.precision_score(y_test, y_pred))\n",
    "print(\"Recall:\",metrics.recall_score(y_test, y_pred))"
   ]
  },
  {
   "cell_type": "markdown",
   "metadata": {},
   "source": [
    "### 3. Anova F-value"
   ]
  },
  {
   "cell_type": "markdown",
   "metadata": {},
   "source": [
    "ANOVA(Analysis of Variance) -statistik metod va u 2 va undan ortiq gruxlarning o'rtacha qiymatining bir biridan farqli ekanligini tekshiraidagan metod.Bu metod ham bir o'lchovli filter metodi hisoblanadi va  klaslar orasidagi individual featurelarning ajralib turishini dispersiyadan foydalanilgan holda hisoblaydi.\n",
    "<br>\n"
   ]
  },
  {
   "cell_type": "code",
   "execution_count": 13,
   "metadata": {},
   "outputs": [
    {
     "data": {
      "text/plain": [
       "['MAC4(IP)', 'MAC4(Ap)', 'MAC5(IP)', 'MAC5(At)', 'MAC5(Ap)', 'MAC7(Ap)']"
      ]
     },
     "execution_count": 13,
     "metadata": {},
     "output_type": "execute_result"
    }
   ],
   "source": [
    "#3 Anova F-value\n",
    "from sklearn.feature_selection import f_classif\n",
    "anov_selector = SelectKBest(f_classif, k=6)\n",
    "anov_selector.fit(X, y)\n",
    "anova_feature = getFeature(anov_selector.get_support())\n",
    "anova_feature"
   ]
  },
  {
   "cell_type": "markdown",
   "metadata": {},
   "source": [
    "Bu metod haqida [batafsil ma'lumot](https://towardsdatascience.com/anova-for-feature-selection-in-machine-learning-d9305e228476)"
   ]
  },
  {
   "cell_type": "code",
   "execution_count": 14,
   "metadata": {},
   "outputs": [
    {
     "name": "stdout",
     "output_type": "stream",
     "text": [
      "Accuracy: 0.8\n",
      "Precision: 0.7\n",
      "Recall: 0.7777777777777778\n"
     ]
    }
   ],
   "source": [
    "X_anova = X[anova_feature]\n",
    "X_train,X_test,y_train,y_test=train_test_split(X_anova,y,test_size=0.25,random_state=0)\n",
    "y_pred = myModel(X_train,y_train,X_test)\n",
    "anova_acc = metrics.accuracy_score(y_test, y_pred)\n",
    "print(\"Accuracy:\",metrics.accuracy_score(y_test, y_pred))\n",
    "print(\"Precision:\",metrics.precision_score(y_test, y_pred))\n",
    "print(\"Recall:\",metrics.recall_score(y_test, y_pred))"
   ]
  },
  {
   "cell_type": "markdown",
   "metadata": {},
   "source": [
    "### 4. Variance Threshold"
   ]
  },
  {
   "cell_type": "markdown",
   "metadata": {},
   "source": [
    "Variance Threshold feature selection uchun oddiy yechim hisoblanadi. Ishlash davomida har bir feature uchun dispersiya hisoblanadi va u berilgan qiymat(threshold)dan kichik bo'lsa o'sha featrure o'chiriladi. Bu metodda faqat dispersiya hisoblanadi yani featurelarning bir birga bo'lgan bog'liqligi va featurening target qiymatiga bog'liqligi hisoblanmaydi. Bu filter metodining minus tarafi hisoblandi."
   ]
  },
  {
   "cell_type": "code",
   "execution_count": 20,
   "metadata": {},
   "outputs": [
    {
     "data": {
      "text/plain": [
       "77"
      ]
     },
     "execution_count": 20,
     "metadata": {},
     "output_type": "execute_result"
    }
   ],
   "source": [
    "#4 Variance Threshold\n",
    "from sklearn.feature_selection import VarianceThreshold\n",
    "var_selector = VarianceThreshold(threshold=1)\n",
    "var_selector.fit_transform(X)\n",
    "var_feature = getFeature(var_selector.get_support())\n",
    "len(var_feature)"
   ]
  },
  {
   "cell_type": "markdown",
   "metadata": {},
   "source": [
    "Bu metod haqida [batafsil ma'lumot](https://www.analyticsvidhya.com/blog/2020/10/feature-selection-techniques-in-machine-learning/#:~:text=The%20variance%20threshold%20is%20a,same%20value%20in%20all%20samples.)"
   ]
  },
  {
   "cell_type": "code",
   "execution_count": 24,
   "metadata": {},
   "outputs": [
    {
     "name": "stdout",
     "output_type": "stream",
     "text": [
      "Accuracy: 0.72\n",
      "Precision: 0.5714285714285714\n",
      "Recall: 0.8888888888888888\n"
     ]
    },
    {
     "name": "stderr",
     "output_type": "stream",
     "text": [
      "lbfgs failed to converge (status=1):\n",
      "STOP: TOTAL NO. of ITERATIONS REACHED LIMIT.\n",
      "\n",
      "Increase the number of iterations (max_iter) or scale the data as shown in:\n",
      "    https://scikit-learn.org/stable/modules/preprocessing.html\n",
      "Please also refer to the documentation for alternative solver options:\n",
      "    https://scikit-learn.org/stable/modules/linear_model.html#logistic-regression\n"
     ]
    }
   ],
   "source": [
    "X_thresh = X[var_feature]\n",
    "X_train,X_test,y_train,y_test=train_test_split(X_thresh,y,test_size=0.25,random_state=0)\n",
    "y_pred = myModel(X_train,y_train,X_test)\n",
    "thresh_acc = metrics.accuracy_score(y_test, y_pred)\n",
    "print(\"Accuracy:\",metrics.accuracy_score(y_test, y_pred))\n",
    "print(\"Precision:\",metrics.precision_score(y_test, y_pred))\n",
    "print(\"Recall:\",metrics.recall_score(y_test, y_pred))"
   ]
  },
  {
   "cell_type": "markdown",
   "metadata": {},
   "source": [
    "### 5. Fisher Score"
   ]
  },
  {
   "cell_type": "markdown",
   "metadata": {},
   "source": [
    "Fisher Score supervised turdagi datalar bilan ishlaganda eng yaxshi metodlardan biri hisoblanadi va o'rtacha qiymat va dispersiyadan foydalangan holda featurelar rankini hisoblaydi. Featurelar bir hil qiymatli egezemplyarlar bilan bir hil klaslarda va turli hil qiymatli egzemplyarlardan bilan turli hil klaslarda eng yaxshi hisoblanadi. Boshqa bir o'lchovli metodlar singari bu metod ham featurelarni induvidual tarzda baholaydi va targetga tasiri past qiymatlarni natija sifatida ishlatmaydi."
   ]
  },
  {
   "cell_type": "code",
   "execution_count": 15,
   "metadata": {},
   "outputs": [
    {
     "data": {
      "text/plain": [
       "Index(['MAC4(ECI)', 'MAC3(Pa)', 'MAC3(ECI)', 'MAC3(Vm)', 'MAC1(ECI)',\n",
       "       'MAC4(Pa)'],\n",
       "      dtype='object')"
      ]
     },
     "execution_count": 15,
     "metadata": {},
     "output_type": "execute_result"
    }
   ],
   "source": [
    "#5. Fisher Score\n",
    "from skfeature.function.similarity_based import fisher_score\n",
    "score = fisher_score.fisher_score(X.to_numpy(), y.to_numpy())\n",
    "X.columns[score[:6]]"
   ]
  },
  {
   "cell_type": "code",
   "execution_count": 16,
   "metadata": {},
   "outputs": [
    {
     "name": "stdout",
     "output_type": "stream",
     "text": [
      "Accuracy: 0.64\n",
      "Precision: 0.0\n",
      "Recall: 0.0\n"
     ]
    },
    {
     "name": "stderr",
     "output_type": "stream",
     "text": [
      "C:\\Users\\User\\anaconda3\\lib\\site-packages\\sklearn\\metrics\\_classification.py:1221: UndefinedMetricWarning: Precision is ill-defined and being set to 0.0 due to no predicted samples. Use `zero_division` parameter to control this behavior.\n",
      "  _warn_prf(average, modifier, msg_start, len(result))\n"
     ]
    }
   ],
   "source": [
    "X_fisher = X[X.columns[score[:6]]]\n",
    "X_train,X_test,y_train,y_test=train_test_split(X_fisher,y,test_size=0.25,random_state=0)\n",
    "y_pred = myModel(X_train,y_train,X_test)\n",
    "fisher_acc = metrics.accuracy_score(y_test, y_pred)\n",
    "print(\"Accuracy:\",metrics.accuracy_score(y_test, y_pred))\n",
    "print(\"Precision:\",metrics.precision_score(y_test, y_pred))\n",
    "print(\"Recall:\",metrics.recall_score(y_test, y_pred))"
   ]
  },
  {
   "cell_type": "markdown",
   "metadata": {},
   "source": [
    "### 6. MultiSURF"
   ]
  },
  {
   "cell_type": "markdown",
   "metadata": {},
   "source": [
    "MultiSURF metodi [relief](https://medium.com/@yashdagli98/feature-selection-using-relief-algorithms-with-python-example-3c2006e18f83) metodinging kengaytirilgan usuli hisoblandi va uning multi-classi ReliefF filter feature selection metodi orqali hisoblanadi. \n",
    "<br>\n",
    "Orginal relief metodi namunalrni datasetdan tasodifiy tarzda oladi va bir hil va turli hil klaslarga eng yaqin bo'lgan qo'shnisiga joylashtiradi.\n",
    "<br>\n",
    "Har bir atribut uchun eng yaqin qo'shini atributi qiymati bilan namuna qilib olingan atributni qiymati bog'liqlilik natijasini yangilash uchun solishtiriladi.\n",
    "<br>\n",
    "Asosiy ma'no shundaki ya'ni foydali atribut har hil klaslar namunlarida bir biridan farq qilib turish kerak va bir hil klasslarda bir hil qiymatga ega bo'lishi kerak.\n",
    "<br>\n",
    "Boshqa relief metodlarga qaraganda MultiSURF eng bog'liqli feature selection qiymatlarini muammo turlarining doirasiga qarab hosil qiladi."
   ]
  },
  {
   "cell_type": "code",
   "execution_count": 26,
   "metadata": {},
   "outputs": [
    {
     "data": {
      "text/plain": [
       "MultiSURF(n_features_to_select=Index(['MAC1(Mw)', 'MAC1(HP)', 'MAC1(IP)', 'MAC1(ECI)', 'MAC1(Vm)',\n",
       "       'MAC1(Anp)', 'MAC1(Z1)', 'MAC1(Z2)', 'MAC1(Z3)', 'MAC1(ISA)',\n",
       "       ...\n",
       "       'MAC7(Anp)', 'MAC7(Z1)', 'MAC7(Z2)', 'MAC7(Z3)', 'MAC7(ISA)',\n",
       "       'MAC7(At)', 'MAC7(Ap)', 'MAC7(Pa)', 'MAC7(Pb)', 'MAC7(Pt)'],\n",
       "      dtype='object', length=105),\n",
       "          n_jobs=-1)"
      ]
     },
     "execution_count": 26,
     "metadata": {},
     "output_type": "execute_result"
    }
   ],
   "source": [
    "#6. MultiSURF\n",
    "from skrebate import MultiSURF\n",
    "fs = MultiSURF(n_jobs=-1, n_features_to_select=X.columns)\n",
    "fs.fit(X.values, y.values)\n",
    "fs"
   ]
  },
  {
   "cell_type": "code",
   "execution_count": 27,
   "metadata": {},
   "outputs": [
    {
     "name": "stdout",
     "output_type": "stream",
     "text": [
      "Accuracy: 0.72\n",
      "Precision: 0.5714285714285714\n",
      "Recall: 0.8888888888888888\n"
     ]
    },
    {
     "name": "stderr",
     "output_type": "stream",
     "text": [
      "lbfgs failed to converge (status=1):\n",
      "STOP: TOTAL NO. of ITERATIONS REACHED LIMIT.\n",
      "\n",
      "Increase the number of iterations (max_iter) or scale the data as shown in:\n",
      "    https://scikit-learn.org/stable/modules/preprocessing.html\n",
      "Please also refer to the documentation for alternative solver options:\n",
      "    https://scikit-learn.org/stable/modules/linear_model.html#logistic-regression\n"
     ]
    }
   ],
   "source": [
    "X_multi = X[X.columns]\n",
    "X_train,X_test,y_train,y_test=train_test_split(X_multi,y,test_size=0.25,random_state=0)\n",
    "y_pred = myModel(X_train,y_train,X_test)\n",
    "multi_acc = metrics.accuracy_score(y_test, y_pred)\n",
    "print(\"Accuracy:\",metrics.accuracy_score(y_test, y_pred))\n",
    "print(\"Precision:\",metrics.precision_score(y_test, y_pred))\n",
    "print(\"Recall:\",metrics.recall_score(y_test, y_pred))"
   ]
  },
  {
   "cell_type": "markdown",
   "metadata": {},
   "source": [
    "## Wrapper Methods"
   ]
  },
  {
   "cell_type": "markdown",
   "metadata": {},
   "source": [
    "### 7. Recursive Feature Elimination"
   ]
  },
  {
   "cell_type": "markdown",
   "metadata": {},
   "source": [
    "Modelni iterativ tarzda train qiladigan va har safar muhimlilik ko'rsatkichi eng kam bo'lgan featureni o'chirib tashlaydi va algoritm vaznini kriteriya sifatida ishlatadigan keng tarqalgan metodlardan [biri](https://machinelearningmastery.com/rfe-feature-selection-in-python/) hisoblanadi.\n",
    "<br>\n",
    "Bu ko'p faktorli metod bo'lgani uchun bir nechta featurelarning bog'liqligini bir vaqtning o'zida tekshiradi.\n",
    "<br>\n",
    "Barcha featurelar tekshirilmagunicha har bir iteratsiyada bittadan feature ochiriladi va stekga joylashtiriladi.\n",
    "<br>\n",
    "Hisoblash effektivligini oshirish maqsadida har bir qadamda bittadan oriq featureni o'chirib tashlashimiz mumkin.\n",
    "<br>\n",
    "Bu metod hisoblash tezligi yaxshi emas."
   ]
  },
  {
   "cell_type": "code",
   "execution_count": 28,
   "metadata": {},
   "outputs": [
    {
     "data": {
      "text/plain": [
       "['MAC3(IP)', 'MAC4(Ap)', 'MAC5(Mw)', 'MAC5(IP)', 'MAC5(Ap)', 'MAC7(At)']"
      ]
     },
     "execution_count": 28,
     "metadata": {},
     "output_type": "execute_result"
    }
   ],
   "source": [
    "from sklearn.feature_selection import RFE\n",
    "from sklearn.linear_model import LogisticRegression\n",
    "rfe_selector = RFE(estimator=LogisticRegression(), \n",
    "                   n_features_to_select=6, step=1, verbose=-1)\n",
    "rfe_selector.fit(X_norm, y)\n",
    "rfe_feature = getFeature(rfe_selector.get_support())\n",
    "rfe_feature"
   ]
  },
  {
   "cell_type": "code",
   "execution_count": 29,
   "metadata": {},
   "outputs": [
    {
     "name": "stdout",
     "output_type": "stream",
     "text": [
      "Accuracy: 0.92\n",
      "Precision: 0.8888888888888888\n",
      "Recall: 0.8888888888888888\n"
     ]
    }
   ],
   "source": [
    "X_rec = X[rfe_feature]\n",
    "X_train,X_test,y_train,y_test=train_test_split(X_rec,y,test_size=0.25,random_state=0)\n",
    "y_pred = myModel(X_train,y_train,X_test)\n",
    "rec_acc = metrics.accuracy_score(y_test, y_pred)\n",
    "print(\"Accuracy:\",metrics.accuracy_score(y_test, y_pred))\n",
    "print(\"Precision:\",metrics.precision_score(y_test, y_pred))\n",
    "print(\"Recall:\",metrics.recall_score(y_test, y_pred))"
   ]
  },
  {
   "cell_type": "markdown",
   "metadata": {},
   "source": [
    "### 8. Permutation Importance"
   ]
  },
  {
   "cell_type": "markdown",
   "metadata": {},
   "source": [
    "Permutation Importance - model natijasini kamayishini bitta featureni tasodifiy olish orqali aniqlanadi.\n",
    "<br>\n",
    "Bu pretsedura feature va target orasidagi aloqni buzadi ya'ni model baholanishi qiymati pasayishi modelni featurelarga bog'liqligini ko'rsatadi.\n",
    "<br>\n",
    "Bu jarayonda kuzatiloyotgan muhimlik p-value"
   ]
  },
  {
   "cell_type": "code",
   "execution_count": 30,
   "metadata": {},
   "outputs": [
    {
     "name": "stderr",
     "output_type": "stream",
     "text": [
      "Pass classifier=True as keyword args. From version 0.25 passing these as positional arguments will result in an error\n",
      "Pass classifier=True as keyword args. From version 0.25 passing these as positional arguments will result in an error\n"
     ]
    },
    {
     "data": {
      "text/plain": [
       "['MAC3(At)', 'MAC3(Ap)', 'MAC4(Ap)', 'MAC5(At)', 'MAC7(Mw)', 'MAC7(Vm)']"
      ]
     },
     "execution_count": 30,
     "metadata": {},
     "output_type": "execute_result"
    }
   ],
   "source": [
    "from eli5.sklearn import PermutationImportance\n",
    "from sklearn.feature_selection import SelectFromModel\n",
    "from sklearn.linear_model import LogisticRegression\n",
    "perm = PermutationImportance(LogisticRegression(solver='lbfgs', max_iter=10000), random_state=42, cv=10)\n",
    "perm.fit(X, y)\n",
    "perm_selector = SelectFromModel(perm,max_features=6).fit(X, y)\n",
    "perm_feature = getFeature(perm_selector.get_support())\n",
    "perm_feature"
   ]
  },
  {
   "cell_type": "markdown",
   "metadata": {},
   "source": [
    "Batafsil [ma'lumot](https://stackoverflow.com/questions/71417212/eli5-sklearn-permutationimportance-typeerror-check-cv-takes-from-0-to-2)"
   ]
  },
  {
   "cell_type": "code",
   "execution_count": 31,
   "metadata": {},
   "outputs": [
    {
     "name": "stdout",
     "output_type": "stream",
     "text": [
      "Accuracy: 0.84\n",
      "Precision: 0.8571428571428571\n",
      "Recall: 0.6666666666666666\n"
     ]
    }
   ],
   "source": [
    "X_perm = X[perm_feature]\n",
    "X_train,X_test,y_train,y_test=train_test_split(X_perm,y,test_size=0.25,random_state=0)\n",
    "y_pred = myModel(X_train,y_train,X_test)\n",
    "perm_acc = metrics.accuracy_score(y_test, y_pred)\n",
    "print(\"Accuracy:\",metrics.accuracy_score(y_test, y_pred))\n",
    "print(\"Precision:\",metrics.precision_score(y_test, y_pred))\n",
    "print(\"Recall:\",metrics.recall_score(y_test, y_pred))"
   ]
  },
  {
   "cell_type": "markdown",
   "metadata": {},
   "source": [
    "### 9. SHAP"
   ]
  },
  {
   "cell_type": "markdown",
   "metadata": {},
   "source": [
    "SHAP - bu har qanday machine learning modelini tushinitra oladigan yagona(унифицированный) yondoshuv. \n",
    "<br>\n",
    "U lokal tushunchalar bilan o'yin nazaryasiga bog'langan, birqancha oldingi metodlarni birlashtirish va bo'lish mumkin bo'lgan hollarni qaytako'rsatish va taxminlarga asoslangan lokal aniq qo'shimcha feature usuli.\n",
    "<br>\n",
    "Songi yilllarda bu metod eng ko'p ishlatiladigan metodlardan hisobalnadi."
   ]
  },
  {
   "cell_type": "code",
   "execution_count": 17,
   "metadata": {},
   "outputs": [
    {
     "data": {
      "image/png": "[encoded data removed]",
      "text/plain": [
       "<Figure size 432x288 with 1 Axes>"
      ]
     },
     "metadata": {
      "needs_background": "light"
     },
     "output_type": "display_data"
    }
   ],
   "source": [
    "import shap\n",
    "import xgboost\n",
    "import matplotlib.pylab as pl\n",
    "model = xgboost.train({\"learning_rate\": 0.01}, xgboost.DMatrix(X, label=y), 100)\n",
    "explainer = shap.TreeExplainer(model)\n",
    "shap_values = explainer.shap_values(X)\n",
    "xgboost.plot_importance(model)\n",
    "pl.title(\"xgboost.plot_importance(model)\")\n",
    "pl.show()"
   ]
  },
  {
   "cell_type": "code",
   "execution_count": 18,
   "metadata": {},
   "outputs": [
    {
     "name": "stdout",
     "output_type": "stream",
     "text": [
      "Accuracy: 0.92\n",
      "Precision: 0.8888888888888888\n",
      "Recall: 0.8888888888888888\n"
     ]
    },
    {
     "name": "stderr",
     "output_type": "stream",
     "text": [
      "lbfgs failed to converge (status=1):\n",
      "STOP: TOTAL NO. of ITERATIONS REACHED LIMIT.\n",
      "\n",
      "Increase the number of iterations (max_iter) or scale the data as shown in:\n",
      "    https://scikit-learn.org/stable/modules/preprocessing.html\n",
      "Please also refer to the documentation for alternative solver options:\n",
      "    https://scikit-learn.org/stable/modules/linear_model.html#logistic-regression\n"
     ]
    }
   ],
   "source": [
    "X_shap = X[['MAC5(Mw)', 'MAC4(Ap)', 'MAC4(Z1)', 'MAC3(Z2)', 'MAC5(IP)', 'MAC1(IP)']]\n",
    "X_train,X_test,y_train,y_test=train_test_split(X_shap,y,test_size=0.25,random_state=0)\n",
    "y_pred = myModel(X_train,y_train,X_test)\n",
    "shap_acc = metrics.accuracy_score(y_test, y_pred)\n",
    "print(\"Accuracy:\",metrics.accuracy_score(y_test, y_pred))\n",
    "print(\"Precision:\",metrics.precision_score(y_test, y_pred))\n",
    "print(\"Recall:\",metrics.recall_score(y_test, y_pred))"
   ]
  },
  {
   "cell_type": "markdown",
   "metadata": {},
   "source": [
    "### 10. Boruta"
   ]
  },
  {
   "cell_type": "markdown",
   "metadata": {},
   "source": [
    "Bu algoritm Random Forestga asoslangan wrapper algoritimi hisoblandi.\n",
    "<br>\n",
    "U statistik test qiymati random probesdan kam bog'liqlik bo'lgan featurelarni itertativ tarzda o'chiradi."
   ]
  },
  {
   "cell_type": "code",
   "execution_count": 32,
   "metadata": {},
   "outputs": [
    {
     "data": {
      "text/plain": [
       "BorutaPy(estimator=RandomForestClassifier(class_weight='balanced', max_depth=6,\n",
       "                                          n_estimators=145, n_jobs=-1,\n",
       "                                          random_state=RandomState(MT19937) at 0x1A42B413840),\n",
       "         n_estimators='auto',\n",
       "         random_state=RandomState(MT19937) at 0x1A42B413840)"
      ]
     },
     "execution_count": 32,
     "metadata": {},
     "output_type": "execute_result"
    }
   ],
   "source": [
    "from boruta import BorutaPy\n",
    "from sklearn.ensemble import RandomForestClassifier\n",
    "rf = RandomForestClassifier(n_jobs=-1, class_weight='balanced', max_depth=6)\n",
    "boru_selector = BorutaPy(rf, n_estimators='auto', verbose=0, random_state=1)\n",
    "boru_selector.fit(X.values, y.values)"
   ]
  },
  {
   "cell_type": "code",
   "execution_count": 34,
   "metadata": {},
   "outputs": [],
   "source": [
    "accept = X.columns[boru_selector.support_].to_list()\n",
    "#accept"
   ]
  },
  {
   "cell_type": "code",
   "execution_count": 35,
   "metadata": {},
   "outputs": [
    {
     "name": "stdout",
     "output_type": "stream",
     "text": [
      "Accuracy: 0.88\n",
      "Precision: 0.8\n",
      "Recall: 0.8888888888888888\n"
     ]
    },
    {
     "name": "stderr",
     "output_type": "stream",
     "text": [
      "lbfgs failed to converge (status=1):\n",
      "STOP: TOTAL NO. of ITERATIONS REACHED LIMIT.\n",
      "\n",
      "Increase the number of iterations (max_iter) or scale the data as shown in:\n",
      "    https://scikit-learn.org/stable/modules/preprocessing.html\n",
      "Please also refer to the documentation for alternative solver options:\n",
      "    https://scikit-learn.org/stable/modules/linear_model.html#logistic-regression\n"
     ]
    }
   ],
   "source": [
    "X_boruta = X[accept]\n",
    "X_train,X_test,y_train,y_test=train_test_split(X_boruta,y,test_size=0.25,random_state=0)\n",
    "y_pred = myModel(X_train,y_train,X_test)\n",
    "boruta_acc = metrics.accuracy_score(y_test, y_pred)\n",
    "print(\"Accuracy:\",metrics.accuracy_score(y_test, y_pred))\n",
    "print(\"Precision:\",metrics.precision_score(y_test, y_pred))\n",
    "print(\"Recall:\",metrics.recall_score(y_test, y_pred))"
   ]
  },
  {
   "cell_type": "markdown",
   "metadata": {},
   "source": [
    "link for more [info](https://towardsdatascience.com/feature-selection-with-borutapy-f0ea84c9366)"
   ]
  },
  {
   "cell_type": "markdown",
   "metadata": {},
   "source": [
    "### 11. Embedded Random Forest"
   ]
  },
  {
   "cell_type": "markdown",
   "metadata": {},
   "source": [
    "[Bu](https://towardsdatascience.com/feature-selection-using-random-forest-26d7b747597f) embedded feature selection Random Forest algoritmdan foydalanadi. \n",
    "<br>\n",
    "Random Forestda har bir daraxt barcha featurelarni yoku barcha kuzatuchilarni ko'rmasligi mumkin va bu overfitting bo'lishini kamaytiradi va de-koorelatsiya bo'lishini taminlaydi. \n",
    "<br>\n",
    "Har bir nodeda data 2 ga bo'linadi. bir biriga o'xshash va bir biriga o'xshash bo'lmagan qismlarga.\n",
    "<br>\n",
    "Featurening muhimligi o'sha bo'laklarga qanchalik bog'liqligiga asoslanadi."
   ]
  },
  {
   "cell_type": "code",
   "execution_count": 36,
   "metadata": {},
   "outputs": [
    {
     "data": {
      "text/plain": [
       "['MAC3(Ap)', 'MAC4(Ap)', 'MAC5(Mw)', 'MAC5(At)', 'MAC6(Ap)', 'MAC7(At)']"
      ]
     },
     "execution_count": 36,
     "metadata": {},
     "output_type": "execute_result"
    }
   ],
   "source": [
    "from sklearn.feature_selection import SelectFromModel\n",
    "from sklearn.ensemble import RandomForestClassifier\n",
    "embeded_rf_selector = SelectFromModel(RandomForestClassifier(n_estimators=100, random_state=42), max_features=6)\n",
    "embeded_rf_selector.fit(X, y)\n",
    "embeded_rf_feature = getFeature(embeded_rf_selector.get_support())\n",
    "embeded_rf_feature"
   ]
  },
  {
   "cell_type": "code",
   "execution_count": 37,
   "metadata": {},
   "outputs": [
    {
     "name": "stdout",
     "output_type": "stream",
     "text": [
      "Accuracy: 0.8\n",
      "Precision: 0.75\n",
      "Recall: 0.6666666666666666\n"
     ]
    }
   ],
   "source": [
    "X_rf = X[embeded_rf_feature]\n",
    "X_train,X_test,y_train,y_test=train_test_split(X_rf,y,test_size=0.25,random_state=0)\n",
    "y_pred = myModel(X_train,y_train,X_test)\n",
    "rf_acc = metrics.accuracy_score(y_test, y_pred)\n",
    "print(\"Accuracy:\",metrics.accuracy_score(y_test, y_pred))\n",
    "print(\"Precision:\",metrics.precision_score(y_test, y_pred))\n",
    "print(\"Recall:\",metrics.recall_score(y_test, y_pred))"
   ]
  },
  {
   "cell_type": "markdown",
   "metadata": {},
   "source": [
    "### 12. Embedded LightGBM"
   ]
  },
  {
   "cell_type": "markdown",
   "metadata": {},
   "source": [
    "Bu embedded feature selection LGB algoritmdan foydalanadi."
   ]
  },
  {
   "cell_type": "code",
   "execution_count": 38,
   "metadata": {},
   "outputs": [
    {
     "data": {
      "text/plain": [
       "['MAC1(Mw)', 'MAC1(HP)', 'MAC1(IP)', 'MAC1(ECI)', 'MAC1(Vm)', 'MAC1(Anp)']"
      ]
     },
     "execution_count": 38,
     "metadata": {},
     "output_type": "execute_result"
    }
   ],
   "source": [
    "from lightgbm import LGBMClassifier\n",
    "from sklearn.feature_selection import SelectFromModel\n",
    "lgbc=LGBMClassifier(n_estimators=500, learning_rate=0.05,\n",
    "                    num_leaves=32, colsample_bytree=0.2,                                           \n",
    "                    reg_alpha=3, reg_lambda=1, min_split_gain=0.01,    \n",
    "                    min_child_weight=40)\n",
    "embeded_lgb_selector = SelectFromModel(lgbc, max_features=6)\n",
    "embeded_lgb_selector.fit(X, y)\n",
    "embeded_lgb_feature = getFeature(embeded_lgb_selector.get_support())\n",
    "embeded_lgb_feature"
   ]
  },
  {
   "cell_type": "code",
   "execution_count": 40,
   "metadata": {},
   "outputs": [
    {
     "name": "stdout",
     "output_type": "stream",
     "text": [
      "Accuracy: 0.72\n",
      "Precision: 0.625\n",
      "Recall: 0.5555555555555556\n"
     ]
    }
   ],
   "source": [
    "X_lgbm = X[embeded_lgb_feature]\n",
    "X_train,X_test,y_train,y_test=train_test_split(X_lgbm,y,test_size=0.25,random_state=0)\n",
    "y_pred = myModel(X_train,y_train,X_test)\n",
    "lgbm_acc = metrics.accuracy_score(y_test, y_pred)\n",
    "print(\"Accuracy:\",metrics.accuracy_score(y_test, y_pred))\n",
    "print(\"Precision:\",metrics.precision_score(y_test, y_pred))\n",
    "print(\"Recall:\",metrics.recall_score(y_test, y_pred))"
   ]
  },
  {
   "cell_type": "code",
   "execution_count": 43,
   "metadata": {},
   "outputs": [],
   "source": [
    "chi_table = ['Chi-square', chi_acc, 'MAC3(Ap)', 'MAC4(ECI)', 'MAC4(Ap)', 'MAC5(Ap)', 'MAC6(Ap)', 'MAC7(Ap)' ]\n",
    "mi_table = ['Mutual Information', mi_acc, 'MAC4(Ap)', 'MAC5(Mw)', 'MAC5(At)', 'MAC5(Ap)', 'MAC6(Mw)', 'MAC6(Ap)']\n",
    "anova_table = ['Anova F-value', anova_acc, 'MAC4(IP)', 'MAC4(Ap)', 'MAC5(IP)', 'MAC5(At)', 'MAC5(Ap)', 'MAC7(Ap)']\n",
    "var_table = ['Variance Threshold',thresh_acc,'-','-','-','-','-','-']\n",
    "fisher_table = ['Fisher Score', fisher_acc, 'MAC4(ECI)', 'MAC3(Pa)', 'MAC3(ECI)', 'MAC3(Vm)', 'MAC1(ECI)','MAC4(Pa)']\n",
    "multi_table = ['MultiSURF',multi_acc,'-','-','-','-','-','-']\n",
    "rec_table = ['Recursive Feature Elimination',rec_acc, 'MAC3(IP)', 'MAC4(Ap)', 'MAC5(Mw)', 'MAC5(IP)', 'MAC5(Ap)', 'MAC7(At)']\n",
    "perm_table = ['Permutation Importance',perm_acc,'MAC3(At)', 'MAC3(Ap)', 'MAC4(Ap)', 'MAC5(At)', 'MAC7(Mw)', 'MAC7(Vm)']\n",
    "shap_table = ['SHAP', shap_acc, 'MAC5(Mw)', 'MAC4(Ap)', 'MAC4(Z1)', 'MAC3(Z2)', 'MAC5(IP)', 'MAC1(IP)']\n",
    "boruta_table = ['Boruta',boruta_acc,'-','-','-','-','-','-']\n",
    "rf_table = ['Embedded Random Forest', rf_acc,'MAC3(Ap)', 'MAC4(Ap)', 'MAC5(Mw)', 'MAC5(At)', 'MAC6(Ap)', 'MAC7(At)']\n",
    "lgbm_table =['Embedded LightGBM', lgbm_acc, 'MAC1(Mw)', 'MAC1(HP)', 'MAC1(IP)', 'MAC1(ECI)', 'MAC1(Vm)', 'MAC1(Anp)']\n",
    "\n",
    "\n"
   ]
  },
  {
   "cell_type": "code",
   "execution_count": 45,
   "metadata": {},
   "outputs": [],
   "source": [
    "myTable = [chi_table, mi_table, anova_table,var_table, fisher_table, multi_table, rec_table, perm_table, shap_table,\n",
    "          boruta_table, rf_table, lgbm_table]\n",
    "\n",
    "\n"
   ]
  },
  {
   "cell_type": "code",
   "execution_count": 46,
   "metadata": {},
   "outputs": [
    {
     "data": {
      "text/html": [
       "<div>\n",
       "<style scoped>\n",
       "    .dataframe tbody tr th:only-of-type {\n",
       "        vertical-align: middle;\n",
       "    }\n",
       "\n",
       "    .dataframe tbody tr th {\n",
       "        vertical-align: top;\n",
       "    }\n",
       "\n",
       "    .dataframe thead th {\n",
       "        text-align: right;\n",
       "    }\n",
       "</style>\n",
       "<table border=\"1\" class=\"dataframe\">\n",
       "  <thead>\n",
       "    <tr style=\"text-align: right;\">\n",
       "      <th></th>\n",
       "      <th>Method</th>\n",
       "      <th>Accuracy</th>\n",
       "      <th>Feature 1</th>\n",
       "      <th>Feature 2</th>\n",
       "      <th>Feature 3</th>\n",
       "      <th>Feature 4</th>\n",
       "      <th>Feature 5</th>\n",
       "      <th>Feature 6</th>\n",
       "    </tr>\n",
       "  </thead>\n",
       "  <tbody>\n",
       "    <tr>\n",
       "      <th>0</th>\n",
       "      <td>Chi-square</td>\n",
       "      <td>0.88</td>\n",
       "      <td>MAC3(Ap)</td>\n",
       "      <td>MAC4(ECI)</td>\n",
       "      <td>MAC4(Ap)</td>\n",
       "      <td>MAC5(Ap)</td>\n",
       "      <td>MAC6(Ap)</td>\n",
       "      <td>MAC7(Ap)</td>\n",
       "    </tr>\n",
       "    <tr>\n",
       "      <th>1</th>\n",
       "      <td>Mutual Information</td>\n",
       "      <td>0.76</td>\n",
       "      <td>MAC4(Ap)</td>\n",
       "      <td>MAC5(Mw)</td>\n",
       "      <td>MAC5(At)</td>\n",
       "      <td>MAC5(Ap)</td>\n",
       "      <td>MAC6(Mw)</td>\n",
       "      <td>MAC6(Ap)</td>\n",
       "    </tr>\n",
       "    <tr>\n",
       "      <th>2</th>\n",
       "      <td>Anova F-value</td>\n",
       "      <td>0.80</td>\n",
       "      <td>MAC4(IP)</td>\n",
       "      <td>MAC4(Ap)</td>\n",
       "      <td>MAC5(IP)</td>\n",
       "      <td>MAC5(At)</td>\n",
       "      <td>MAC5(Ap)</td>\n",
       "      <td>MAC7(Ap)</td>\n",
       "    </tr>\n",
       "    <tr>\n",
       "      <th>3</th>\n",
       "      <td>Variance Threshold</td>\n",
       "      <td>0.72</td>\n",
       "      <td>-</td>\n",
       "      <td>-</td>\n",
       "      <td>-</td>\n",
       "      <td>-</td>\n",
       "      <td>-</td>\n",
       "      <td>-</td>\n",
       "    </tr>\n",
       "    <tr>\n",
       "      <th>4</th>\n",
       "      <td>Fisher Score</td>\n",
       "      <td>0.64</td>\n",
       "      <td>MAC4(ECI)</td>\n",
       "      <td>MAC3(Pa)</td>\n",
       "      <td>MAC3(ECI)</td>\n",
       "      <td>MAC3(Vm)</td>\n",
       "      <td>MAC1(ECI)</td>\n",
       "      <td>MAC4(Pa)</td>\n",
       "    </tr>\n",
       "    <tr>\n",
       "      <th>5</th>\n",
       "      <td>MultiSURF</td>\n",
       "      <td>0.72</td>\n",
       "      <td>-</td>\n",
       "      <td>-</td>\n",
       "      <td>-</td>\n",
       "      <td>-</td>\n",
       "      <td>-</td>\n",
       "      <td>-</td>\n",
       "    </tr>\n",
       "    <tr>\n",
       "      <th>6</th>\n",
       "      <td>Recursive Feature Elimination</td>\n",
       "      <td>0.92</td>\n",
       "      <td>MAC3(IP)</td>\n",
       "      <td>MAC4(Ap)</td>\n",
       "      <td>MAC5(Mw)</td>\n",
       "      <td>MAC5(IP)</td>\n",
       "      <td>MAC5(Ap)</td>\n",
       "      <td>MAC7(At)</td>\n",
       "    </tr>\n",
       "    <tr>\n",
       "      <th>7</th>\n",
       "      <td>Permutation Importance</td>\n",
       "      <td>0.84</td>\n",
       "      <td>MAC3(At)</td>\n",
       "      <td>MAC3(Ap)</td>\n",
       "      <td>MAC4(Ap)</td>\n",
       "      <td>MAC5(At)</td>\n",
       "      <td>MAC7(Mw)</td>\n",
       "      <td>MAC7(Vm)</td>\n",
       "    </tr>\n",
       "    <tr>\n",
       "      <th>8</th>\n",
       "      <td>SHAP</td>\n",
       "      <td>0.92</td>\n",
       "      <td>MAC5(Mw)</td>\n",
       "      <td>MAC4(Ap)</td>\n",
       "      <td>MAC4(Z1)</td>\n",
       "      <td>MAC3(Z2)</td>\n",
       "      <td>MAC5(IP)</td>\n",
       "      <td>MAC1(IP)</td>\n",
       "    </tr>\n",
       "    <tr>\n",
       "      <th>9</th>\n",
       "      <td>Boruta</td>\n",
       "      <td>0.88</td>\n",
       "      <td>-</td>\n",
       "      <td>-</td>\n",
       "      <td>-</td>\n",
       "      <td>-</td>\n",
       "      <td>-</td>\n",
       "      <td>-</td>\n",
       "    </tr>\n",
       "    <tr>\n",
       "      <th>10</th>\n",
       "      <td>Embedded Random Forest</td>\n",
       "      <td>0.80</td>\n",
       "      <td>MAC3(Ap)</td>\n",
       "      <td>MAC4(Ap)</td>\n",
       "      <td>MAC5(Mw)</td>\n",
       "      <td>MAC5(At)</td>\n",
       "      <td>MAC6(Ap)</td>\n",
       "      <td>MAC7(At)</td>\n",
       "    </tr>\n",
       "    <tr>\n",
       "      <th>11</th>\n",
       "      <td>Embedded LightGBM</td>\n",
       "      <td>0.72</td>\n",
       "      <td>MAC1(Mw)</td>\n",
       "      <td>MAC1(HP)</td>\n",
       "      <td>MAC1(IP)</td>\n",
       "      <td>MAC1(ECI)</td>\n",
       "      <td>MAC1(Vm)</td>\n",
       "      <td>MAC1(Anp)</td>\n",
       "    </tr>\n",
       "  </tbody>\n",
       "</table>\n",
       "</div>"
      ],
      "text/plain": [
       "                           Method  Accuracy  Feature 1  Feature 2  Feature 3  \\\n",
       "0                      Chi-square      0.88   MAC3(Ap)  MAC4(ECI)   MAC4(Ap)   \n",
       "1              Mutual Information      0.76   MAC4(Ap)   MAC5(Mw)   MAC5(At)   \n",
       "2                   Anova F-value      0.80   MAC4(IP)   MAC4(Ap)   MAC5(IP)   \n",
       "3              Variance Threshold      0.72          -          -          -   \n",
       "4                    Fisher Score      0.64  MAC4(ECI)   MAC3(Pa)  MAC3(ECI)   \n",
       "5                       MultiSURF      0.72          -          -          -   \n",
       "6   Recursive Feature Elimination      0.92   MAC3(IP)   MAC4(Ap)   MAC5(Mw)   \n",
       "7          Permutation Importance      0.84   MAC3(At)   MAC3(Ap)   MAC4(Ap)   \n",
       "8                            SHAP      0.92   MAC5(Mw)   MAC4(Ap)   MAC4(Z1)   \n",
       "9                          Boruta      0.88          -          -          -   \n",
       "10         Embedded Random Forest      0.80   MAC3(Ap)   MAC4(Ap)   MAC5(Mw)   \n",
       "11              Embedded LightGBM      0.72   MAC1(Mw)   MAC1(HP)   MAC1(IP)   \n",
       "\n",
       "    Feature 4  Feature 5  Feature 6  \n",
       "0    MAC5(Ap)   MAC6(Ap)   MAC7(Ap)  \n",
       "1    MAC5(Ap)   MAC6(Mw)   MAC6(Ap)  \n",
       "2    MAC5(At)   MAC5(Ap)   MAC7(Ap)  \n",
       "3           -          -          -  \n",
       "4    MAC3(Vm)  MAC1(ECI)   MAC4(Pa)  \n",
       "5           -          -          -  \n",
       "6    MAC5(IP)   MAC5(Ap)   MAC7(At)  \n",
       "7    MAC5(At)   MAC7(Mw)   MAC7(Vm)  \n",
       "8    MAC3(Z2)   MAC5(IP)   MAC1(IP)  \n",
       "9           -          -          -  \n",
       "10   MAC5(At)   MAC6(Ap)   MAC7(At)  \n",
       "11  MAC1(ECI)   MAC1(Vm)  MAC1(Anp)  "
      ]
     },
     "execution_count": 46,
     "metadata": {},
     "output_type": "execute_result"
    }
   ],
   "source": [
    "results = pd.DataFrame(myTable,columns=['Method', 'Accuracy','Feature 1','Feature 2','Feature 3','Feature 4','Feature 5','Feature 6'])\n",
    "\n",
    "results                    "
   ]
  },
  {
   "cell_type": "code",
   "execution_count": 26,
   "metadata": {},
   "outputs": [],
   "source": [
    "results.to_csv('result.csv')"
   ]
  },
  {
   "cell_type": "code",
   "execution_count": 27,
   "metadata": {},
   "outputs": [],
   "source": [
    "results.to_excel(\"result.xlsx\", sheet_name='Sheet_name_1') "
   ]
  },
  {
   "cell_type": "code",
   "execution_count": null,
   "metadata": {},
   "outputs": [],
   "source": []
  }
 ],
 "metadata": {
  "kernelspec": {
   "display_name": "Python 3 (ipykernel)",
   "language": "python",
   "name": "python3"
  },
  "language_info": {
   "codemirror_mode": {
    "name": "ipython",
    "version": 3
   },
   "file_extension": ".py",
   "mimetype": "text/x-python",
   "name": "python",
   "nbconvert_exporter": "python",
   "pygments_lexer": "ipython3",
   "version": "3.9.7"
  }
 },
 "nbformat": 4,
 "nbformat_minor": 4
}
